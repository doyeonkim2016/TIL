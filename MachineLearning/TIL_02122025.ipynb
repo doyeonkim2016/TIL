{
 "cells": [
  {
   "cell_type": "markdown",
   "metadata": {},
   "source": [
    "### Normalisation"
   ]
  },
  {
   "cell_type": "code",
   "execution_count": null,
   "metadata": {},
   "outputs": [],
   "source": [
    "from sklearn.model_selection import train_test_split\n",
    "from sklearn.preprocessing import Normalizer \n",
    "\n",
    "df=\"Dataframe to be filled\"\n",
    "\n",
    "# Split the data\n",
    "X_train, X_test = train_test_split(df, test_size=0.2, random_state=42)\n",
    "\n",
    "# Create Normalizer Object, fit on training data, normalise transform the test data set\n",
    "norm = Normalizer()\n",
    "X_train_norm = norm.fit_transform(X_train)\n",
    "X_test_norm = norm.transfrom(X_test)\n",
    "\n",
    "\n"
   ]
  },
  {
   "cell_type": "markdown",
   "metadata": {},
   "source": [
    "### Standardization\n"
   ]
  },
  {
   "cell_type": "code",
   "execution_count": null,
   "metadata": {},
   "outputs": [],
   "source": [
    "from sklearn.preprocessing import StandardScaler\n",
    "\n",
    "# Split the data\n",
    "X_train, X_test = train_test_split(df, test_size=0.2, random_state=42)\n",
    "\n",
    "# Create a scaler object and fit training data to standardise it\n",
    "sc = StandardScaler()\n",
    "X_Train_stzd = sc. fit_transform(X_train)\n",
    "\n",
    "# Only Standardise the test data\n",
    "X_test_stzd = sc.transform(X_test)"
   ]
  },
  {
   "cell_type": "markdown",
   "metadata": {},
   "source": [
    "### Feature Selection"
   ]
  },
  {
   "cell_type": "code",
   "execution_count": 7,
   "metadata": {},
   "outputs": [
    {
     "name": "stdout",
     "output_type": "stream",
     "text": [
      "Feature Names: ['sepal length (cm)', 'sepal width (cm)', 'petal length (cm)', 'petal width (cm)']\n",
      "X shape: (150, 4)\n"
     ]
    }
   ],
   "source": [
    "# Setup and Data Loading\n",
    "\n",
    "import numpy as np\n",
    "import pandas as pd\n",
    "from sklearn.datasets import load_iris\n",
    "\n",
    "iris = load_iris()\n",
    "X = iris.data  # Features\n",
    "Y= iris.target # Target Variable\n",
    "feature_names = iris.feature_names\n",
    "\n",
    "print(\"Feature Names:\", feature_names)\n",
    "print(\"X shape:\", X.shape)\n",
    "\n"
   ]
  },
  {
   "cell_type": "code",
   "execution_count": 8,
   "metadata": {},
   "outputs": [
    {
     "name": "stdout",
     "output_type": "stream",
     "text": [
      "Original shape: (150, 4)\n",
      "Shape after VarianceThreshold: (150, 4)\n"
     ]
    }
   ],
   "source": [
    "from sklearn.feature_selection import VarianceThreshold\n",
    "\n",
    "# This method removes features with low variance\n",
    "\n",
    "vt= VarianceThreshold(threshold=0)\n",
    "X_vt = vt.fit_transform(X)\n",
    "print(\"Original shape:\", X.shape)\n",
    "print(\"Shape after VarianceThreshold:\", X_vt.shape)"
   ]
  },
  {
   "cell_type": "code",
   "execution_count": 9,
   "metadata": {},
   "outputs": [
    {
     "name": "stdout",
     "output_type": "stream",
     "text": [
      "Selected feature indices: [2 3]\n",
      "Selected features: ['petal length (cm)', 'petal width (cm)']\n"
     ]
    }
   ],
   "source": [
    "# Univariate Feature Selection with SelectKBest\n",
    "\n",
    "from sklearn.feature_selection import SelectKBest, f_classif\n",
    "\n",
    "# Select best 2 features based on the ANOVA F test\n",
    "selector = SelectKBest(score_func=f_classif,k=2)\n",
    "X_kbest= selector.fit_transform(X,Y)\n",
    "\n",
    "selected_indices = selector.get_support(indices=True)\n",
    "selected_features = [feature_names[i] for i in selected_indices]\n",
    "\n",
    "print(\"Selected feature indices:\", selected_indices)\n",
    "print(\"Selected features:\", selected_features)"
   ]
  },
  {
   "cell_type": "code",
   "execution_count": 11,
   "metadata": {},
   "outputs": [
    {
     "name": "stdout",
     "output_type": "stream",
     "text": [
      "RFE selected feature indices: [1 3]\n",
      "RFE selected features: ['sepal width (cm)', 'petal width (cm)']\n"
     ]
    }
   ],
   "source": [
    "# Wrapper Methods\n",
    "\n",
    "# Recursive Feature Elimination (RFE)\n",
    "# RFE removes features recursively and builds a model on the remaining attributes\n",
    "\n",
    "from sklearn.feature_selection import RFE\n",
    "from sklearn.linear_model import LogisticRegression\n",
    "\n",
    "# Initialise a logistic regression model\n",
    "model = LogisticRegression(max_iter= 200, solver='liblinear')\n",
    "\n",
    "# Use RFE to select top 2 features\n",
    "rfe =RFE(estimator=model, n_features_to_select=2)\n",
    "rfe.fit(X,Y)\n",
    "\n",
    "# Get the selected feature indices and names\n",
    "rfe_selected = rfe.get_support(indices=True)\n",
    "rfe_features = [feature_names[i] for i in rfe_selected]\n",
    "\n",
    "print(\"RFE selected feature indices:\", rfe_selected)\n",
    "print(\"RFE selected features:\", rfe_features)"
   ]
  },
  {
   "cell_type": "code",
   "execution_count": 12,
   "metadata": {},
   "outputs": [
    {
     "name": "stdout",
     "output_type": "stream",
     "text": [
      "Optimal number of features: 4\n",
      "RFECV selected features: ['sepal length (cm)', 'sepal width (cm)', 'petal length (cm)', 'petal width (cm)']\n"
     ]
    }
   ],
   "source": [
    "# RFECV: RFE with Cross Validation\n",
    "\n",
    "from sklearn.feature_selection import RFECV\n",
    "from sklearn.model_selection import StratifiedKFold\n",
    "\n",
    "rfecv = RFECV(estimator=model, step=1, cv=StratifiedKFold(5), scoring='accuracy')\n",
    "rfecv.fit(X,Y)\n",
    "\n",
    "\n",
    "print(\"Optimal number of features:\", rfecv.n_features_)\n",
    "rfecv_selected = rfecv.get_support(indices=True)\n",
    "rfecv_features = [feature_names[i] for i in rfecv_selected]\n",
    "print(\"RFECV selected features:\", rfecv_features)"
   ]
  },
  {
   "cell_type": "code",
   "execution_count": 13,
   "metadata": {},
   "outputs": [
    {
     "name": "stdout",
     "output_type": "stream",
     "text": [
      "SelectFromModel chosen feature indices: [2 3]\n",
      "SelectFromModel chosen features: ['petal length (cm)', 'petal width (cm)']\n"
     ]
    }
   ],
   "source": [
    "from sklearn.ensemble import RandomForestClassifier\n",
    "from sklearn.feature_selection import SelectFromModel\n",
    "\n",
    "# Train a RandomForest classifier\n",
    "rf = RandomForestClassifier(n_estimators=100, random_state=42)\n",
    "rf.fit(X, Y)\n",
    "\n",
    "# Use feature importances for selection; default threshold is the mean importance\n",
    "sfm = SelectFromModel(rf, prefit=True)\n",
    "X_sfm = sfm.transform(X)\n",
    "\n",
    "sfm_selected = sfm.get_support(indices=True)\n",
    "sfm_features = [feature_names[i] for i in sfm_selected]\n",
    "\n",
    "print(\"SelectFromModel chosen feature indices:\", sfm_selected)\n",
    "print(\"SelectFromModel chosen features:\", sfm_features)\n"
   ]
  },
  {
   "cell_type": "markdown",
   "metadata": {},
   "source": []
  }
 ],
 "metadata": {
  "kernelspec": {
   "display_name": "openaitest",
   "language": "python",
   "name": "python3"
  },
  "language_info": {
   "codemirror_mode": {
    "name": "ipython",
    "version": 3
   },
   "file_extension": ".py",
   "mimetype": "text/x-python",
   "name": "python",
   "nbconvert_exporter": "python",
   "pygments_lexer": "ipython3",
   "version": "3.12.7"
  }
 },
 "nbformat": 4,
 "nbformat_minor": 2
}
